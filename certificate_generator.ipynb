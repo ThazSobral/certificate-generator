{
  "nbformat": 4,
  "nbformat_minor": 0,
  "metadata": {
    "colab": {
      "name": "certificate-generator.ipynb",
      "provenance": [],
      "toc_visible": true,
      "authorship_tag": "ABX9TyNuxiV8840/8Bhqo7q73Wi9",
      "include_colab_link": true
    },
    "kernelspec": {
      "name": "python3",
      "display_name": "Python 3"
    }
  },
  "cells": [
    {
      "cell_type": "markdown",
      "metadata": {
        "id": "view-in-github",
        "colab_type": "text"
      },
      "source": [
        "<a href=\"https://colab.research.google.com/github/ThazSobral/certificate-generator/blob/main/certificate_generator.ipynb\" target=\"_parent\"><img src=\"https://colab.research.google.com/assets/colab-badge.svg\" alt=\"Open In Colab\"/></a>"
      ]
    },
    {
      "cell_type": "markdown",
      "metadata": {
        "id": "yo3Xxhdm_DnL"
      },
      "source": [
        "# Automatização do processo de gerar certificados"
      ]
    },
    {
      "cell_type": "code",
      "metadata": {
        "id": "7tOx0lRJCHeJ"
      },
      "source": [
        "import pandas as pd\n",
        "\n",
        "# importar dados\n",
        "df = pd.read_csv('https://raw.githubusercontent.com/ThazSobral/certificate-generator/main/assets/data/graduates%20-%20P%C3%A1gina1.csv')"
      ],
      "execution_count": 351,
      "outputs": []
    },
    {
      "cell_type": "markdown",
      "metadata": {
        "id": "qf3GjMetmmmX"
      },
      "source": [
        ".html"
      ]
    },
    {
      "cell_type": "code",
      "metadata": {
        "id": "WrsSOhhsK2a_"
      },
      "source": [
        "from  jinja2  import  Environment, FileSystemLoader \n",
        "\n",
        "# definir o caminho para o diretório do template do certificado\n",
        "env  =  Environment(loader=FileSystemLoader('.'))\n",
        "\n",
        "# importar template do certificado\n",
        "template  =  env.get_template (\"template.html\")"
      ],
      "execution_count": 352,
      "outputs": []
    },
    {
      "cell_type": "code",
      "metadata": {
        "id": "Yls_YHZTGnPl"
      },
      "source": [
        "import datetime\n",
        "\n",
        "# ajustar data\n",
        "date = df['date'].loc[1]\n",
        "date = date.split('-')\n",
        "date.reverse()\n",
        "date = '/'.join(d)"
      ],
      "execution_count": 353,
      "outputs": []
    },
    {
      "cell_type": "code",
      "metadata": {
        "id": "hErLJARxOhl1"
      },
      "source": [
        "from weasyprint import HTML\n",
        "\n",
        "# percorrer todo o dataframe\n",
        "for id in range(0, len(df)):\n",
        "  # setar os valores das variáveis com os dados do dataframe\n",
        "  template_vars = {\"name\" : df['name'].loc[id],\n",
        "                  \"course\": df['course'].loc[id],\n",
        "                  \"date\": date,\n",
        "                  \"hours\": df['hours'].loc[id],\n",
        "                  \"responsible_name\": df['responsible_name'].loc[id],\n",
        "                  \"school_name\": df['school_name'].loc[id]}\n",
        "\n",
        "  # renderizar o template\n",
        "  html_out = template.render(template_vars)\n",
        "  \n",
        "  # gravar o arquivo como PDF\n",
        "  HTML(string=html_out).write_pdf(f\"certificate-{df['name'].loc[id]}.pdf\")"
      ],
      "execution_count": 354,
      "outputs": []
    }
  ]
}